{
 "cells": [
  {
   "cell_type": "markdown",
   "id": "75cb79a9",
   "metadata": {},
   "source": [
    "## Task - Twitter Topic Classification\n",
    "### Subtopics : Natural Language Processing, Supervised Machine Learning, Classification ,Pipeline"
   ]
  },
  {
   "cell_type": "markdown",
   "id": "393d3707",
   "metadata": {},
   "source": [
    "#### Goal is to build a Machine Learning Model that categories tweet cover to a variety of topics, namely:\n",
    "0. Arts & Culture\n",
    "1. Business & Entrepreneurs\n",
    "2. Pop Culture\n",
    "3. Daily Life\n",
    "4. Sports & Gaming\n",
    "5. Science & Technology"
   ]
  },
  {
   "cell_type": "markdown",
   "id": "b899e715",
   "metadata": {},
   "source": [
    "##### To fulfill this goal, we'll follow the CRISP-DM methodology, which stands for Cross-Industry Standard Process for Data Mining. Here's how we'll proceed:\n",
    "\n",
    "1. Business Understanding: Understand the task and objectives, which involve classifying tweets into predefined categories.\n",
    "\n",
    "2. Data Understanding: Examine the dataset provided, understand its structure, and explore some basic statistics.\n",
    "\n",
    "3. Data Preparation: Preprocess the text data, handle missing values, tokenize the text, remove stopwords, and perform any other necessary transformations. Additionally, split the dataset into training and testing sets.\n",
    "\n",
    "4. Modeling: Select suitable classification models (e.g., Naive Bayes, Logistic Regression, etc.) and train them using the training data.\n",
    "\n",
    "5. Evaluation: Evaluate the trained models using appropriate evaluation metrics such as accuracy, precision, recall, and F1-score. Compare the performance of different models and pipeline choices.\n",
    "\n",
    "6. Deployment: Deploy the best-performing model for practical use, if applicable."
   ]
  },
  {
   "cell_type": "markdown",
   "id": "61e207d0",
   "metadata": {},
   "source": [
    "### 1.  Business Understanding"
   ]
  },
  {
   "cell_type": "markdown",
   "id": "8b6d3977",
   "metadata": {},
   "source": [
    "Goal is to produce a pipeline capable of solving a multi-class classification task in the\n",
    "form of a research project - whereby comparisons are made and assessed towards the task.\n",
    "For this you will follow the CRISP-DM Methodology (see Figure 2) covered in the module,\n",
    "evidencing your process in your report. Multiple approaches will be compared, and final\n",
    "evaluations and recommendations made."
   ]
  },
  {
   "cell_type": "markdown",
   "id": "d6e43d06",
   "metadata": {},
   "source": [
    "### 2. Data Understanding\n",
    "We have a JSON file containing 6443 entries which represent\n",
    "tweets from the social media platform Twitter, covering 6 topics. These tweets were gathered\n",
    "between 2019 and 2021 and were human-labelled using Amazon’s Mechanical Turk.\n",
    "The categories of tweet cover a variety of topics, namely:\n",
    "\n",
    "0. Arts & Culture\n",
    "1. Business & Entrepreneurs\n",
    "2. Pop Culture\n",
    "3. Daily Life\n",
    "4. Sports & Gaming\n",
    "5. Science & Technology"
   ]
  },
  {
   "cell_type": "markdown",
   "id": "e848b549",
   "metadata": {},
   "source": [
    "### 3. Data Preparation\n",
    "This include steps such as :Preprocessing the text data, handling missing values, tokenizing the text, removing stopwords, and performing any other necessary transformations. Additionally, splitting of the dataset into training and testing sets before modeling.\n"
   ]
  },
  {
   "cell_type": "code",
   "execution_count": 5,
   "id": "da8b2db1",
   "metadata": {},
   "outputs": [
    {
     "name": "stdout",
     "output_type": "stream",
     "text": [
      "CETM47 Assignment 2.ipynb   CETM47-23_24-AS2.pdf\r\n",
      "CETM47-23_24-AS2-Data.json  CETM47-23_24-AS2_CRG.pdf\r\n"
     ]
    }
   ],
   "source": [
    "ls"
   ]
  },
  {
   "cell_type": "code",
   "execution_count": 8,
   "id": "545de5ac",
   "metadata": {},
   "outputs": [
    {
     "name": "stdout",
     "output_type": "stream",
     "text": [
      "                                                text       date  label  \\\n",
      "0  The {@Clinton LumberKings@} beat the {@Cedar R... 2019-09-08      4   \n",
      "1  I would rather hear Eli Gold announce this Aub... 2019-09-08      4   \n",
      "2  Someone take my phone away, I’m trying to not ... 2019-09-08      4   \n",
      "\n",
      "                    id       label_name  \n",
      "0  1170516324419866624  sports_&_gaming  \n",
      "1  1170516440690176006  sports_&_gaming  \n",
      "2  1170516543387709440  sports_&_gaming  \n",
      "<class 'pandas.core.frame.DataFrame'>\n",
      "RangeIndex: 6443 entries, 0 to 6442\n",
      "Data columns (total 5 columns):\n",
      " #   Column      Non-Null Count  Dtype         \n",
      "---  ------      --------------  -----         \n",
      " 0   text        6443 non-null   object        \n",
      " 1   date        6443 non-null   datetime64[ns]\n",
      " 2   label       6443 non-null   int64         \n",
      " 3   id          6443 non-null   int64         \n",
      " 4   label_name  6443 non-null   object        \n",
      "dtypes: datetime64[ns](1), int64(2), object(2)\n",
      "memory usage: 251.8+ KB\n",
      "None\n",
      "             label            id\n",
      "count  6443.000000  6.443000e+03\n",
      "mean      2.910756  1.298320e+18\n",
      "std       1.148659  7.871683e+16\n",
      "min       0.000000  1.170516e+18\n",
      "25%       2.000000  1.226439e+18\n",
      "50%       3.000000  1.300101e+18\n",
      "75%       4.000000  1.368440e+18\n",
      "max       5.000000  1.432129e+18\n"
     ]
    }
   ],
   "source": [
    "import pandas as pd\n",
    "\n",
    "# Read the dataset\n",
    "df = pd.read_json(\"CETM47-23_24-AS2-Data.json\")\n",
    "\n",
    "# Display the first few rows of the dataframe\n",
    "print(df.head(3))\n",
    "\n",
    "# Display basic information about the dataframe\n",
    "print(df.info())\n",
    "\n",
    "# Display summary statistics of the numerical columns\n",
    "print(df.describe())\n"
   ]
  },
  {
   "cell_type": "code",
   "execution_count": 9,
   "id": "49bae7fe",
   "metadata": {},
   "outputs": [
    {
     "name": "stdout",
     "output_type": "stream",
     "text": [
      "Accuracy: 0.7571761055081458\n",
      "Classification Report:\n",
      "                          precision    recall  f1-score   support\n",
      "\n",
      "         sports_&_gaming       0.00      0.00      0.00        25\n",
      "             pop_culture       0.83      0.08      0.15        60\n",
      "              daily_life       0.77      0.88      0.82       497\n",
      "business_&_entrepreneurs       0.69      0.42      0.52       179\n",
      "    science_&_technology       0.76      0.97      0.85       468\n",
      "          arts_&_culture       0.75      0.10      0.18        60\n",
      "\n",
      "                accuracy                           0.76      1289\n",
      "               macro avg       0.63      0.41      0.42      1289\n",
      "            weighted avg       0.74      0.76      0.71      1289\n",
      "\n"
     ]
    },
    {
     "name": "stderr",
     "output_type": "stream",
     "text": [
      "/Users/apple/anaconda3/lib/python3.10/site-packages/sklearn/metrics/_classification.py:1344: UndefinedMetricWarning: Precision and F-score are ill-defined and being set to 0.0 in labels with no predicted samples. Use `zero_division` parameter to control this behavior.\n",
      "  _warn_prf(average, modifier, msg_start, len(result))\n",
      "/Users/apple/anaconda3/lib/python3.10/site-packages/sklearn/metrics/_classification.py:1344: UndefinedMetricWarning: Precision and F-score are ill-defined and being set to 0.0 in labels with no predicted samples. Use `zero_division` parameter to control this behavior.\n",
      "  _warn_prf(average, modifier, msg_start, len(result))\n",
      "/Users/apple/anaconda3/lib/python3.10/site-packages/sklearn/metrics/_classification.py:1344: UndefinedMetricWarning: Precision and F-score are ill-defined and being set to 0.0 in labels with no predicted samples. Use `zero_division` parameter to control this behavior.\n",
      "  _warn_prf(average, modifier, msg_start, len(result))\n"
     ]
    }
   ],
   "source": [
    "from sklearn.model_selection import train_test_split\n",
    "from sklearn.feature_extraction.text import CountVectorizer\n",
    "from sklearn.pipeline import Pipeline\n",
    "from sklearn.naive_bayes import MultinomialNB\n",
    "from sklearn.metrics import accuracy_score, classification_report\n",
    "\n",
    "# Split the data into training and testing sets\n",
    "X_train, X_test, y_train, y_test = train_test_split(df['text'], df['label'], test_size=0.2, random_state=42)\n",
    "\n",
    "# Define a text preprocessing pipeline\n",
    "text_clf = Pipeline([\n",
    "    ('vect', CountVectorizer()),  # Convert text to vectors\n",
    "    ('clf', MultinomialNB())      # Naive Bayes classifier\n",
    "])\n",
    "\n",
    "# Train the model\n",
    "text_clf.fit(X_train, y_train)\n",
    "\n",
    "# Predict on the testing set\n",
    "y_pred = text_clf.predict(X_test)\n",
    "\n",
    "# Evaluate the model\n",
    "accuracy = accuracy_score(y_test, y_pred)\n",
    "print(\"Accuracy:\", accuracy)\n",
    "print(\"Classification Report:\")\n",
    "print(classification_report(y_test, y_pred, target_names=df['label_name'].unique()))\n"
   ]
  },
  {
   "cell_type": "code",
   "execution_count": null,
   "id": "30c8c427",
   "metadata": {},
   "outputs": [],
   "source": []
  }
 ],
 "metadata": {
  "kernelspec": {
   "display_name": "Python 3 (ipykernel)",
   "language": "python",
   "name": "python3"
  },
  "language_info": {
   "codemirror_mode": {
    "name": "ipython",
    "version": 3
   },
   "file_extension": ".py",
   "mimetype": "text/x-python",
   "name": "python",
   "nbconvert_exporter": "python",
   "pygments_lexer": "ipython3",
   "version": "3.10.9"
  }
 },
 "nbformat": 4,
 "nbformat_minor": 5
}
